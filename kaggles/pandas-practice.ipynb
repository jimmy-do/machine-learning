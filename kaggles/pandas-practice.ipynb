{
 "cells": [
  {
   "cell_type": "code",
   "execution_count": null,
   "metadata": {},
   "outputs": [],
   "source": [
    "import numpy as np\n",
    "import pandas as pd\n",
    "import time as time\n",
    "\n",
    "# Sample Data: Simulating a dataset of action movies from the 1990s\n",
    "data = {\n",
    "    \"title\": [\"Movie A\", \"Movie B\", \"Movie C\", \"Movie D\", \"Movie E\"],\n",
    "    \"duration\": [85, 120, 95, 88, 75],  # Movie durations in minutes\n",
    "    \"rating\": [7.5, 8.2, 6.9, 7.8, 5.4]\n",
    "}\n",
    "\n",
    "action_movies_1990s = pd.DataFrame(data)\n",
    "\n",
    "# --- 1. Inefficient approach using iterrows() ---\n",
    "start_time = time.time()\n",
    "short_movie_count = 0\n",
    "for label, row in action_movies_1990s.iterrows():\n",
    "    if row[\"duration\"] < 90:\n",
    "        short_movie_count += 1\n",
    "end_time = time.time()\n",
    "loop_time = end_time - start_time\n",
    "\n",
    "print(f\"Short movies count (iterrows approach): {short_movie_count}\")\n",
    "print(f\"Loop execution time: {loop_time:.6f} seconds\")\n",
    "\n",
    "# --- 2. Efficient vectorized approach ---\n",
    "start_time = time.time()\n",
    "short_movie_count_vectorized = (action_movies_1990s[\"duration\"] < 90).sum()\n",
    "end_time = time.time()\n",
    "vectorized_time = end_time - start_time\n",
    "\n",
    "print(f\"Short movies count (vectorized approach): {short_movie_count_vectorized}\")\n",
    "print(f\"Vectorized execution time: {vectorized_time:.6f} seconds\")\n",
    "\n",
    "# --- 3. Using apply() to categorize movies efficiently ---\n",
    "action_movies_1990s[\"category\"] = action_movies_1990s[\"duration\"].apply(lambda x: \"Short\" if x < 90 else \"Long\")\n",
    "print(\"\\nCategorized DataFrame:\")\n",
    "print(action_movies_1990s)\n",
    "\n",
    "# --- 4. Using NumPy for conditional operations ---\n",
    "action_movies_1990s[\"fast_watch\"] = np.where(action_movies_1990s[\"duration\"] < 90, True, False)\n",
    "print(\"\\nDataFrame with NumPy fast_watch column:\")\n",
    "print(action_movies_1990s)\n",
    "\n",
    "# --- 5. Performance comparison summary ---\n",
    "print(\"\\nPerformance Summary:\")\n",
    "print(f\"Loop execution time: {loop_time:.6f} seconds\")\n",
    "print(f\"Vectorized execution time: {vectorized_time:.6f} seconds\")"
   ]
  }
 ],
 "metadata": {
  "kernelspec": {
   "display_name": "venv-py313",
   "language": "python",
   "name": "python3"
  },
  "language_info": {
   "codemirror_mode": {
    "name": "ipython",
    "version": 3
   },
   "file_extension": ".py",
   "mimetype": "text/x-python",
   "name": "python",
   "nbconvert_exporter": "python",
   "pygments_lexer": "ipython3",
   "version": "3.13.1"
  }
 },
 "nbformat": 4,
 "nbformat_minor": 2
}
